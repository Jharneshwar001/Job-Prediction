{
  "nbformat": 4,
  "nbformat_minor": 0,
  "metadata": {
    "colab": {
      "provenance": []
    },
    "kernelspec": {
      "name": "python3",
      "display_name": "Python 3"
    },
    "language_info": {
      "name": "python"
    }
  },
  "cells": [
    {
      "cell_type": "code",
      "source": [
        "import pandas as pd\n",
        "import numpy as np\n",
        "from sklearn.model_selection import train_test_split\n",
        "from sklearn.preprocessing import StandardScaler\n",
        "from sklearn.ensemble import RandomForestClassifier\n",
        "from sklearn.metrics import accuracy_score"
      ],
      "metadata": {
        "id": "i7GFPX4EvdkA"
      },
      "execution_count": 2,
      "outputs": []
    },
    {
      "cell_type": "code",
      "source": [
        "# Load dataset\n",
        "df = pd.read_csv(\"/content/sample_data/resume_data.csv\")  # Ensure your dataset is clean and formatted\n"
      ],
      "metadata": {
        "id": "h88yUH78xtmI"
      },
      "execution_count": 3,
      "outputs": []
    },
    {
      "cell_type": "code",
      "source": [
        "\n",
        "\n",
        "# Check and preprocess necessary columns\n",
        "if 'skills_required' not in df.columns or 'matched_score' not in df.columns:\n",
        "    raise KeyError(\"Dataset must contain 'skills_required' and 'matched_score' columns.\")\n",
        "\n",
        "# Extract unique skills\n",
        "df['skills_required'] = df['skills_required'].fillna('').astype(str)\n",
        "\n",
        "def extract_skills(skill_list):\n",
        "    return [skill.strip() for skill in skill_list.split('\\n') if skill]\n",
        "\n",
        "df['extracted_skills'] = df['skills_required'].apply(extract_skills)\n",
        "unique_skills = sorted(set(skill for skills in df['extracted_skills'] for skill in skills))\n",
        "\n",
        "# One-hot encode skills\n",
        "skills_df = pd.DataFrame(0, index=df.index, columns=unique_skills)\n",
        "for i, skills in enumerate(df['extracted_skills']):\n",
        "    skills_df.loc[i, skills] = 1\n",
        "\n",
        "df = pd.concat([df, skills_df], axis=1)\n",
        "\n",
        "# Define features and target variable\n",
        "X = df[unique_skills]  # Skills as features\n",
        "y = (df['matched_score'] >= 0.7).astype(int)  # 1 if matched_score >= 0.7 (hired), else 0\n",
        "\n",
        "# Split data into training and testing sets\n",
        "X_train, X_test, y_train, y_test = train_test_split(X, y, test_size=0.2, random_state=42)\n",
        "\n",
        "# Train RandomForest model\n",
        "model = RandomForestClassifier(n_estimators=100, random_state=42)\n",
        "model.fit(X_train, y_train)\n",
        "\n",
        "# Evaluate model\n",
        "y_pred = model.predict(X_test)\n",
        "accuracy = accuracy_score(y_test, y_pred)\n",
        "print(f\"Model Accuracy: {accuracy:.2f}\")\n",
        "\n",
        "# Prediction function\n",
        "def predict_job(skills_list):\n",
        "    \"\"\"Predict whether a person with given skills can get a data science job.\"\"\"\n",
        "    input_data = np.zeros(len(unique_skills))\n",
        "    for skill in skills_list:\n",
        "        if skill in unique_skills:\n",
        "            input_data[unique_skills.index(skill)] = 1\n",
        "    input_data = input_data.reshape(1, -1)\n",
        "    prediction = model.predict(input_data)\n",
        "    return \"Hired\" if prediction[0] == 1 else \"Not Hired\"\n",
        "\n",
        "# Example test\n",
        "example_skills = [\"Python\", \"Machine Learning\", \"Deep Learning\", \"SQL\"]\n",
        "print(\"Prediction:\", predict_job(example_skills))\n"
      ],
      "metadata": {
        "colab": {
          "base_uri": "https://localhost:8080/"
        },
        "id": "Uu1xJRI310l9",
        "outputId": "e049e520-63db-4704-b1f3-6bc228fad0cb"
      },
      "execution_count": 4,
      "outputs": [
        {
          "output_type": "stream",
          "name": "stdout",
          "text": [
            "Model Accuracy: 0.69\n",
            "Prediction: Hired\n"
          ]
        },
        {
          "output_type": "stream",
          "name": "stderr",
          "text": [
            "/usr/local/lib/python3.11/dist-packages/sklearn/utils/validation.py:2739: UserWarning: X does not have valid feature names, but RandomForestClassifier was fitted with feature names\n",
            "  warnings.warn(\n"
          ]
        }
      ]
    },
    {
      "cell_type": "code",
      "source": [
        "num_skills = len(unique_skills)\n",
        "print(f\"Total number of unique skills in the dataset: {num_skills}\")\n"
      ],
      "metadata": {
        "colab": {
          "base_uri": "https://localhost:8080/"
        },
        "id": "HytpnaAH2ijJ",
        "outputId": "78afe70a-bb4f-4187-ddfa-64f2f99bf142"
      },
      "execution_count": 5,
      "outputs": [
        {
          "output_type": "stream",
          "name": "stdout",
          "text": [
            "Total number of unique skills in the dataset: 97\n"
          ]
        }
      ]
    },
    {
      "cell_type": "code",
      "source": [
        "print(\"Unique skills in the dataset:\")\n",
        "print(unique_skills)\n"
      ],
      "metadata": {
        "colab": {
          "base_uri": "https://localhost:8080/"
        },
        "id": "dAVP8erb2jVU",
        "outputId": "cdfa76f6-3885-4a06-b577-a1bb579199d7"
      },
      "execution_count": 6,
      "outputs": [
        {
          "output_type": "stream",
          "name": "stdout",
          "text": [
            "Unique skills in the dataset:\n",
            "['ASP.NET MVC Strong understanding of database design', 'AUDIT AND INSPECTION', 'AWS Cloud', 'Ansible', 'Auto CAD 2D 3D', 'AutoCAD', 'Azure', 'Banking', 'Big Data', 'Brand Promotion', 'Business Analysis', 'CCNA (Cisco Certified Network Associate)', 'Campaign Management', 'Cisco', 'Civil 3D', 'Civil Construction', 'Civil Engineering', 'Cloud Platform', 'Communication and negotiation skills', 'Computer skill', 'Corporate Marketing', 'Data Analytics', 'Database Administrator (DBA)', 'Database management', 'DevOps', 'Dockers and Kubernetes', 'ETABS', 'ETL Tools', 'Effective communication skills', 'Elasticsearch', 'Facebook Ads Manager', 'Facebook campaign', 'Facebook marketing', 'Fast typing skill', 'Field Supervision', 'GPON', 'Good communication skills', 'Google Ads', 'Google analytics', 'HRM Report', 'Hardware & Networking', 'Having CACC from reputed CA Firm', 'Human Resource Management', 'IELTSInternet browsing & online work ability.', 'IIG', 'ISP', 'IT Enabled services', 'Internal Audit', 'Internal Audit and Compliance', 'Internet', 'Java', 'Linux', 'MS Office', 'MS Project', 'Maintenance  and Troubleshooting', 'Market Researc', 'Marketing', 'Mechanical', 'Mechanical Engineering', 'Merchandising', 'Microsoft Office Suite', 'Mobile apps Developer (iOS)', 'MongoDB', 'MySQL database', 'NGO', 'Native IOS', 'NoSQL database', 'OLT and ONU', 'Operation & Maintenance of Server', 'Power BI', 'PyTorch', 'Python', 'Quick learner and hard working', 'R or Java', 'REDIS', 'REST API Design', 'ReactJS', 'SQL', 'Scikit-learn.', 'Search Engine Optimization (SEO)', 'Soft Skills', 'Software Development', 'Solidworks', 'Swift (iOS)', 'Swift UI', 'TensorFlow', 'Terraform', 'Trade Marketing', 'VAT and Tax', 'iOS', 'iOS App Developer', 'iOS Application Development', 'iOS Development', 'promotional activities', '•Administration', '•Health Safety and Environment', '•Safety and Security Management']\n"
          ]
        }
      ]
    },
    {
      "cell_type": "code",
      "source": [
        "# Example test\n",
        "example_skills = [\"Civil Engineering\", \"Communication and negotiation skills\", \"Corporate Marketing\", \"SQL\"]\n",
        "print(\"Prediction:\", predict_job(example_skills))"
      ],
      "metadata": {
        "colab": {
          "base_uri": "https://localhost:8080/"
        },
        "id": "HFVIqypQ2qj3",
        "outputId": "824782b6-a5a3-4512-ee8f-093afa88f077"
      },
      "execution_count": 7,
      "outputs": [
        {
          "output_type": "stream",
          "name": "stdout",
          "text": [
            "Prediction: Not Hired\n"
          ]
        },
        {
          "output_type": "stream",
          "name": "stderr",
          "text": [
            "/usr/local/lib/python3.11/dist-packages/sklearn/utils/validation.py:2739: UserWarning: X does not have valid feature names, but RandomForestClassifier was fitted with feature names\n",
            "  warnings.warn(\n"
          ]
        }
      ]
    },
    {
      "cell_type": "code",
      "source": [
        "# Example test\n",
        "example_skills = [\"Elasticsearch\", \"Facebook Ads Manager\", \"IT Enabled services\", \"Human Resource Management\"]\n",
        "print(\"Prediction:\", predict_job(example_skills))"
      ],
      "metadata": {
        "colab": {
          "base_uri": "https://localhost:8080/"
        },
        "id": "SVG31IM827eD",
        "outputId": "af1b92c4-992b-42dd-8547-8cce4489319c"
      },
      "execution_count": 8,
      "outputs": [
        {
          "output_type": "stream",
          "name": "stdout",
          "text": [
            "Prediction: Not Hired\n"
          ]
        },
        {
          "output_type": "stream",
          "name": "stderr",
          "text": [
            "/usr/local/lib/python3.11/dist-packages/sklearn/utils/validation.py:2739: UserWarning: X does not have valid feature names, but RandomForestClassifier was fitted with feature names\n",
            "  warnings.warn(\n"
          ]
        }
      ]
    },
    {
      "cell_type": "code",
      "source": [
        "# Example test\n",
        "example_skills = [\"PyTorch\", \"Python\", \"Scikit-learn.\", \"TensorFlow\"]\n",
        "print(\"Prediction:\", predict_job(example_skills))"
      ],
      "metadata": {
        "colab": {
          "base_uri": "https://localhost:8080/"
        },
        "id": "eAQvgXne3a0K",
        "outputId": "891e8b27-a54b-4291-f1a2-67f4755f37b9"
      },
      "execution_count": 9,
      "outputs": [
        {
          "output_type": "stream",
          "name": "stdout",
          "text": [
            "Prediction: Hired\n"
          ]
        },
        {
          "output_type": "stream",
          "name": "stderr",
          "text": [
            "/usr/local/lib/python3.11/dist-packages/sklearn/utils/validation.py:2739: UserWarning: X does not have valid feature names, but RandomForestClassifier was fitted with feature names\n",
            "  warnings.warn(\n"
          ]
        }
      ]
    },
    {
      "cell_type": "code",
      "source": [],
      "metadata": {
        "id": "9V-QGZBM4B6F"
      },
      "execution_count": null,
      "outputs": []
    }
  ]
}